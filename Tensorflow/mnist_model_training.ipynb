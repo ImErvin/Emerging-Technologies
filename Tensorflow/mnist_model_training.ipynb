{
 "cells": [
  {
   "cell_type": "markdown",
   "metadata": {},
   "source": [
    "# MNIST Model Training\n",
    "#### Written by Ervin Mamutov - github/imervin\n",
    "\n",
    "### Introduction\n",
    "This is my jupyter notebook containing the code I used to train my Tensorflow model to predict hand drawn figures for 808. The model is trained and tested using the MNIST dataset and built using Keras with Python 3.\n",
    "\n",
    "### What is MNIST?\n",
    "\n",
    "MNIST(Modified National Institute of Standards and Technology) is a sub data set of NIST(National Institute of Standards and Technology), a large database of handwritten digits. MNIST is used to train image processing systems and is basically the \"hello world\" of machine learning and computer vision.\n",
    "\n",
    "MNIST contains 60,000 training images and 10,000 testing images. Training images are used to train a system, and testing images are used to test the trained system.\n",
    "\n",
    "### Where does the MNIST dataset come from?\n",
    "\n",
    "The set of images in the MNIST database is a combination of two of NIST's databases: Special Database 1 and Special Database 3. Special Database 1 and Special Database 3 consist of digits written by high school students and employees of the United States Census Bureau, respectively.[1]\n",
    "\n",
    "\n",
    "### What is Tensorflow and Keras?\n",
    "Tensorflow is a popular software library for dataflow programming across a range of tasks. Tensorflow is open-source and is developed by the Google Brain Team. Tensorflow is a symbolic math library and is also used for machine learning applications such as neaural networks [2]. I will be using Tensorflow's Python API but it is available for a range of languages.\n",
    "\n",
    "Keras is an open source neural network library written in Python developed by a Google engineer: Francois Chollet. Keras acts like a \"library on top of a library\" as it is capable of running on top of MXNet, Deeplearning4j, Tensorflow, CNTK or Theano. Keras takes the functionality in core Tensorflow and adds a higher-level of abstraction to it, making it easier to experiment with deep neural networks [3]."
   ]
  },
  {
   "cell_type": "markdown",
   "metadata": {},
   "source": [
    "### Download the MNIST dataset\n",
    "Before I can start building my model, I must first get the MNIST dataset and decode it into a format that allows me to use it later on. Luckily MNIST is quite a popular dataset for machine learning and Keras comes with MNIST pre-built with the MNIST dataset.\n",
    "\n",
    "The keras.datasets.mnist.load_data() produces 2 tuples:\n",
    "\n",
    "    x_train, x_test: uint8 array of grayscale image data with shape (num_samples, 28, 28).\n",
    "    y_train, y_test: uint8 array of digit labels (integers in range 0-9) with shape (num_samples,).\n",
    "\n",
    "I will be renaming x_train, x_test to training_images, testing_images and y_train, y_test to training_labels and testing_labels but it will work the same as if I kept the names as x_train etc."
   ]
  },
  {
   "cell_type": "code",
   "execution_count": 9,
   "metadata": {},
   "outputs": [
    {
     "name": "stdout",
     "output_type": "stream",
     "text": [
      "\n",
      "............................\n",
      "............................\n",
      "............................\n",
      "............................\n",
      "............................\n",
      "..............#######.......\n",
      "..........############......\n",
      ".........#############......\n",
      "..........############......\n",
      "..................####......\n",
      "..................####......\n",
      ".................####.......\n",
      "...............######.......\n",
      "...........########.........\n",
      ".........##########.........\n",
      ".........##########.........\n",
      "................###.........\n",
      ".................##.........\n",
      ".................##.........\n",
      "................###.........\n",
      "......##.......####.........\n",
      ".....#############..........\n",
      ".....############...........\n",
      "......#########.............\n",
      "........###.................\n",
      "............................\n",
      "............................\n",
      "............................"
     ]
    }
   ],
   "source": [
    "# Use keras's dataset mnist\n",
    "from keras.datasets import mnist\n",
    "\n",
    "# Initiate two tuples, the first with uint8 array of grayscale image data, the other with integers between 0-9\n",
    "(training_images, training_labels), (testing_images, testing_labels) = mnist.load_data()\n",
    "\n",
    "for x in training_images[7]:\n",
    "    print()\n",
    "    for y in x:\n",
    "        if(y > 128):\n",
    "            print(\"#\", end=\"\")\n",
    "        else:\n",
    "            print(\".\", end=\"\")"
   ]
  },
  {
   "cell_type": "markdown",
   "metadata": {},
   "source": [
    "### References\n",
    "[1] https://en.wikipedia.org/wiki/MNIST_database\n",
    "\n",
    "[2] https://en.wikipedia.org/wiki/TensorFlow\n",
    "\n",
    "[3] https://en.wikipedia.org/wiki/Keras"
   ]
  }
 ],
 "metadata": {
  "kernelspec": {
   "display_name": "Python 3",
   "language": "python",
   "name": "python3"
  },
  "language_info": {
   "codemirror_mode": {
    "name": "ipython",
    "version": 3
   },
   "file_extension": ".py",
   "mimetype": "text/x-python",
   "name": "python",
   "nbconvert_exporter": "python",
   "pygments_lexer": "ipython3",
   "version": "3.6.2"
  }
 },
 "nbformat": 4,
 "nbformat_minor": 2
}
